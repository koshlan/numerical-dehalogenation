{
 "cells": [
  {
   "cell_type": "code",
   "execution_count": 1,
   "metadata": {
    "collapsed": true
   },
   "outputs": [],
   "source": [
    "get_ipython().magic(u'matplotlib inline')\n",
    "import matplotlib.pyplot as plt"
   ]
  },
  {
   "cell_type": "markdown",
   "metadata": {},
   "source": [
    "### A Simple Model of Mass Partitioning and BioDegredation\n",
    "#### Koshlan Mayer-Blackwell\n",
    "\n",
    "#### Declaration of Fixed System Variables"
   ]
  },
  {
   "cell_type": "code",
   "execution_count": 2,
   "metadata": {
    "collapsed": true
   },
   "outputs": [],
   "source": [
    "V_total  = 1                    # Volume in Liters  \n",
    "V_liquid = 0.4                  # Volume in Liters\n",
    "V_liquid_max = 0.4\n",
    "V_gas = V_total - V_liquid        # Volume in Liters\n",
    " \n",
    "Q = 0.024                      # Flow Rate L/Day\n",
    "\n",
    "# Henry's Partition Constant Dimensionless Cgas/Caqeous\n",
    "K_h_TCE = 0.42 \n",
    "K_h_DCE = 0.166 \n",
    "K_h_VC  = 1.11\n",
    "K_H_DCA = 0.04\n",
    "K_h_H   = 52.4                   # Hyrdogen Henry's Partition Constant Dimensionless Cgas/Caqeous\n",
    " \n",
    "# STARTING CONENTRATIONS EVERYTHING IS IN uMolar\n",
    "C_liquid_TCE = 100\n",
    "C_liquid_DCE = 100\n",
    "C_liquid_VC = 100 \n",
    "C_liquid_DCA = 0\n",
    "C_liquid_H = 45\n",
    "\n",
    "C_gas_TCE = 0\n",
    "C_gas_DCE = 0\n",
    "C_gas_VC = 0\n",
    "C_gas_DCA = 0\n",
    "C_gas_H = 0\n",
    "\n",
    "X1 = 10                         #[mg protein/ L];\n",
    "X2 = 10\n",
    "\n",
    "# INFLUENT CONCENTRATION (ASSUME STABLE)\n",
    "C_in_TCE = 10000\n",
    "C_in_DCE = 0\n",
    "C_in_VC  = 0\n",
    "C_in_CA = 0\n",
    "C_in_H = 30000"
   ]
  },
  {
   "cell_type": "markdown",
   "metadata": {},
   "source": [
    "#### Organism 1 <i>containing the tceA gene for TCE reductive dehalogenase</i>"
   ]
  },
  {
   "cell_type": "code",
   "execution_count": 3,
   "metadata": {
    "collapsed": true
   },
   "outputs": [],
   "source": [
    "# Population 1 SPECIFIC CONSTANTS tceA containing Dehalococcoides\n",
    "vTCE_1  = 28              # [uMol/mg/day]   # Vmax TCE, Population 1\n",
    "vDCE_1  = 14                 # [uMol/mg/day]   # Vmax DCE, Population 1\n",
    "vVC_1   = 0                 # [uMol/mg/day]   # Vmax VC, Population 1\n",
    "vDCA_1  = 0\n",
    "kTCE_1  = 1.8               # [uM]            # Ks,TCE Population 1\n",
    "kDCE_1  = 1.8               # [uM]            # Ks,DCE Population 1\n",
    "kVC_1   = 6.3               # [uM]            # Ks,VC  Population 1\n",
    "kDCA_1  = 6.3\n",
    "kH_1    = 1.8\n",
    "KI_TCE_1= 1.8               # [uM]            # KI,TCE, Population 1\n",
    "KI_DCE_1= 1.8               # [uM]            # KI,DCE, Population 1\n",
    "Y_TCE_1 = 0.006             # Yield, TCE Population 1\n",
    "Y_DCE_1 = 0.006             # [mg pro./uMol substrate]    # Yield, TCE Population 1\n",
    "Y_VC_1  = 0.006             # [mg pro./uMol substrate]    #Yield, VC Populations 1\n",
    "Y_DCA_1 = 0.006\n",
    "Decay_1 = 0.025             # [day^-1 ]       # rate of natural decay \n",
    "H_thr_1 = 0.01 "
   ]
  },
  {
   "cell_type": "markdown",
   "metadata": {},
   "source": [
    "#### Organism 2 <i>containing the vcrA gene for vinyl chloride reductive dehalogenase</i>"
   ]
  },
  {
   "cell_type": "code",
   "execution_count": 4,
   "metadata": {
    "collapsed": true
   },
   "outputs": [],
   "source": [
    "# Population 2 SPECIFIC CONSTANTS vcrA containing Dehalococcoides\n",
    "vTCE_2  = 1             # [uMol/mg/day]   # Vmax TCE, Population 2\n",
    "vDCE_2  = 14                # [uMol/mg/day]   # Vmax DCE, Population 2\n",
    "vVC_2   = 14                 # [uMol/mg/day]   # Vmax VC, Population 2\n",
    "vDCA_2  = 0\n",
    "kTCE_2  = 1.8               # [uM]            # Ks,TCE Population 2\n",
    "kDCE_2  = 1.8               # [uM]            # Ks,DCE Population 2\n",
    "kVC_2   = 6.3               # [uM]            # Ks,VC  Population 2\n",
    "kDCA_2  = 6.3\n",
    "kH_2    = 1.8\n",
    "KI_TCE_2= 1.8               # [uM]            # KI,TCE, Population 2\n",
    "KI_DCE_2= 1.8               # [uM]            # KI,DCE, Population 2\n",
    "Y_TCE_2 = 0.006             # Yield, TCE Population 2\n",
    "Y_DCE_2 = 0.006             # [mg pro./uMol substrate]    # Yield, TCE Population 2\n",
    "Y_VC_2  = 0.006             # [mg pro./uMol substrate]    #Yield, VC Populations 1\n",
    "Y_DCA_2 = 0.006\n",
    "Decay_2 = 0.025             # [day^-1 ]       # rate of natural decay \n",
    "H_thr_2 = 0.01 \n"
   ]
  },
  {
   "cell_type": "markdown",
   "metadata": {},
   "source": [
    "#### NUMERICAL LOOP\n"
   ]
  },
  {
   "cell_type": "code",
   "execution_count": 5,
   "metadata": {
    "collapsed": false
   },
   "outputs": [],
   "source": [
    "\n",
    "storage = {'counter':[],\n",
    "           'X1':[],\n",
    "           'X2':[],\n",
    "           'C_liquid_TCE':[],\n",
    "           'C_liquid_DCE':[],\n",
    "           'C_liquid_VC':[],\n",
    "           'C_liquid_DCA':[],\n",
    "           'C_liquid_H':[],\n",
    "           'C_gas_TCE':[],\n",
    "           'C_gas_DCE':[],\n",
    "           'C_gas_VC':[],\n",
    "           'C_gas_DCA':[],\n",
    "           'C_gas_H':[],\n",
    "           'dTCE_1':[], \n",
    "           'dDCE_1':[], \n",
    "           'dVC_1':[], \n",
    "           'dDCA_1':[], \n",
    "           'dTCE_2':[], \n",
    "           'dDCE_2':[], \n",
    "           'dVC_2':[], \n",
    "           'dDCA_2':[]}\n",
    "\n",
    "\n",
    "\n",
    "DT = 0.001                       # Timestep Fraction Days\n",
    "n = 200000                  # Number of Steps\n",
    "for i in range(n):\n",
    "    # BLOCK HANDLES INPUT OF SUBSTRATE AND EQUILIBRATION OF GAS AND LIQUID\n",
    "    ###########\n",
    "    ### TCE ###\n",
    "    ###########\n",
    "    M_gas_TCE = C_gas_TCE * V_gas\n",
    "    M_liquid_TCE = C_liquid_TCE * V_liquid\n",
    "    M_total_TCE =  M_gas_TCE + M_liquid_TCE                 # CALCULATE TOTAL MASS FROM PREVIOUS\n",
    "    M_total_TCE += (C_in_TCE * Q * DT)                      # UPDATE TOTAL MASS WITH ADDITION\n",
    "    C_liquid_TCE = M_total_TCE / (K_h_TCE*V_gas + V_liquid) # PARTITION uMol/L\n",
    "    C_gas_TCE = K_h_TCE * C_liquid_TCE                      # PARTITION uMol/L\n",
    "    M_liquid_TCE = C_liquid_TCE * V_liquid                  # UPDATE TOTAL MASS IN LIQUID WITH ADDITION\n",
    "    M_gas_TCE = C_gas_TCE * V_gas                           # UPDATE TOTAL MASS IN GAS WITH ADDITION\n",
    "    ###########\n",
    "    ### DCE ###\n",
    "    ###########\n",
    "    M_gas_DCE = C_gas_DCE * V_gas\n",
    "    M_liquid_DCE = C_liquid_DCE * V_liquid\n",
    "    M_total_DCE =  M_gas_DCE + M_liquid_DCE                 # CALCULATE TOTAL MASS FROM PREVIOUS\n",
    "    M_total_DCE += (C_in_DCE * Q * DT)                      # UPDATE TOTAL MASS WITH ADDITION\n",
    "    C_liquid_DCE = M_total_DCE / (K_h_DCE*V_gas + V_liquid) # PARTITION uMol/L\n",
    "    C_gas_DCE = K_h_DCE * C_liquid_DCE                      # PARTITION uMol/L\n",
    "    M_liquid_DCE = C_liquid_DCE * V_liquid                  # UPDATE TOTAL MASS IN LIQUID WITH ADDITION\n",
    "    M_gas_DCE = C_gas_DCE * V_gas                           # UPDATE TOTAL MASS IN GAS WITH ADDITION\n",
    "    ###########\n",
    "    ### VC ###\n",
    "    ###########\n",
    "    M_gas_VC = C_gas_VC * V_gas\n",
    "    M_liquid_VC = C_liquid_VC * V_liquid\n",
    "    M_total_VC =  M_gas_VC + M_liquid_VC                 # CALCULATE TOTAL MASS FROM PREVIOUS\n",
    "    M_total_VC += (C_in_VC * Q * DT)                      # UPDATE TOTAL MASS WITH ADDITION\n",
    "    C_liquid_VC = M_total_VC / (K_h_VC*V_gas + V_liquid) # PARTITION uMol/L\n",
    "    C_gas_VC = K_h_VC * C_liquid_VC                      # PARTITION uMol/L\n",
    "    M_liquid_VC = C_liquid_VC * V_liquid                  # UPDATE TOTAL MASS IN LIQUID WITH ADDITION\n",
    "    M_gas_VC = C_gas_VC * V_gas                           # UPDATE TOTAL MASS IN GAS WITH ADDITION    \n",
    "    \n",
    "    ##########\n",
    "    ### H2 ###\n",
    "    ##########\n",
    "    M_gas_H = C_gas_H * V_gas\n",
    "    M_liquid_H = C_liquid_H * V_liquid\n",
    "    M_total_H =  M_gas_H + M_liquid_H                 \t# CALCULATE TOTAL MASS FROM PREVIOUS\n",
    "    M_total_H += (C_in_H * Q * DT)                      # UPDATE TOTAL MASS WITH ADDITION\n",
    "    C_liquid_H = M_total_H / (K_h_H*V_gas + V_liquid) \t# PARTITION uMol/L\n",
    "    C_gas_H = K_h_H * C_liquid_H                      \t# PARTITION uMol/L\n",
    "    M_liquid_H = C_liquid_H * V_liquid                  # UPDATE TOTAL MASS IN LIQUID WITH ADDITION\n",
    "    M_gas_H = C_gas_H * V_gas                           # UPDATE TOTAL MASS IN GAS WITH ADDITION\n",
    "      \n",
    "    # REDUCTION TAKES PLACE IN THE FORM OF MICROBIAL CONSUMPTION\n",
    "    # REDUCTION TAKES PLACE IN TERMS OF MASS LEAVING THE SYSTEM FROM THE LIQUID ONLY\n",
    "    # RATES\n",
    "    \n",
    "    dTCE_1  = (X1 * vTCE_1 *  (C_liquid_TCE / ( kTCE_1 + C_liquid_TCE))\t\t\t\t\t\t\t\t\t\t\t\t\t\t\t\t*  (C_liquid_H-H_thr_1) / ((C_liquid_H-H_thr_1) + kH_1 ))\n",
    "    dDCE_1  = (X1 * vDCE_1 *  (C_liquid_DCE / ( kDCE_1 * (1 + (C_liquid_TCE/KI_TCE_1)) \t\t\t\t\t\t\t+ C_liquid_DCE))\t*  (C_liquid_H-H_thr_1) / ((C_liquid_H-H_thr_1) + kH_1 ))\n",
    "    dVC_1   = (X1 * vVC_1  *  (C_liquid_VC  / ( kVC_1  * (1 + (C_liquid_TCE/KI_TCE_1)+(C_liquid_DCE/KI_DCE_1)) \t+ C_liquid_VC))  \t*  (C_liquid_H-H_thr_1) / ((C_liquid_H-H_thr_1) + kH_1 ))\n",
    "    dDCA_1  = (X1 * vDCA_1 *  (C_liquid_DCA / ( kDCA_1 + C_liquid_DCA))                                       \t\t\t\t\t\t*  (C_liquid_H-H_thr_1) / ((C_liquid_H-H_thr_1) + kH_1 ))\n",
    "    dH_1 = dTCE_1 + dDCE_1 + dVC_1 + dDCA_1\n",
    "    \n",
    "    dTCE_2  = (X2 * vTCE_2 *  (C_liquid_TCE / ( kTCE_2 + C_liquid_TCE))\t\t\t\t\t\t\t\t\t\t\t\t\t\t\t\t*  (C_liquid_H-H_thr_2) / ((C_liquid_H-H_thr_2) + kH_2 ))\n",
    "    dDCE_2  = (X2 * vDCE_2 *  (C_liquid_DCE / ( kDCE_2 * (2 + (C_liquid_TCE/KI_TCE_2)) \t\t\t\t\t\t\t+ C_liquid_DCE))\t*  (C_liquid_H-H_thr_2) / ((C_liquid_H-H_thr_2) + kH_2 ))\n",
    "    dVC_2   = (X2 * vVC_2  *  (C_liquid_VC  / ( kVC_2  * (2 + (C_liquid_TCE/KI_TCE_2)+(C_liquid_DCE/KI_DCE_2)) \t+ C_liquid_VC))  \t*  (C_liquid_H-H_thr_2) / ((C_liquid_H-H_thr_2) + kH_2 ))\n",
    "    dDCA_2  = (X2 * vDCA_2 *  (C_liquid_DCA / ( kDCA_2 + C_liquid_DCA))                                       \t\t\t\t\t\t*  (C_liquid_H-H_thr_2) / ((C_liquid_H-H_thr_2) + kH_2 ))\n",
    "    dH_2 = dTCE_2 + dDCE_2 + dVC_2 + dDCA_2\n",
    "    \n",
    "    \n",
    "    # MASS REDUCTIONS #\n",
    "    M_liquid_TCE -= DT * (dTCE_1 + dTCE_2 + (C_liquid_TCE * Q)) # uMol removed each timestep\n",
    "    M_liquid_DCE -= DT * (dDCE_1 + dDCE_2 + (C_liquid_DCE * Q) - dTCE_1 - dTCE_2 )\n",
    "    M_liquid_VC  -= DT * (dVC_1 + dVC_2 + (C_liquid_VC * Q)    - dDCE_1 - dDCE_2 )\n",
    "    M_liquid_H   -= DT * (dH_1 + dH_1 + (C_liquid_H * Q)) # uMol removed each timestep\n",
    "        \n",
    "    # LIQUID CONCENTRATION AFTER REDUCTION\n",
    "    C_liquid_TCE = M_liquid_TCE / V_liquid\n",
    "    C_liquid_DCE = M_liquid_DCE / V_liquid\n",
    "    C_liquid_VC  = M_liquid_VC  / V_liquid\n",
    "    C_liquid_H   = M_liquid_H   / V_liquid\n",
    "   \n",
    "    # ENFORCE NON-ZERO CONDITION\n",
    "    if C_liquid_TCE < 0:\n",
    "        C_liquid_TCE = 0.001\n",
    "    if C_liquid_DCE < 0:\n",
    "        C_liquid_DCE = 0.001\n",
    "    if C_liquid_VC  < 0:\n",
    "        C_liquid_VC  = 0.001\n",
    "    if C_liquid_H < 0:\n",
    "        C_liquid_H = 0.001\n",
    "    \n",
    "    \n",
    "    #####################\n",
    "    ### X1, X2 Growth ###\n",
    "    #####################\n",
    "    M_X1 = V_liquid * X1\n",
    "    M_X2 = V_liquid * X2\n",
    "    \n",
    "    M_X1 += DT*(dTCE_1*Y_TCE_1 + dDCE_1*Y_DCE_1 + dVC_1*Y_VC_1 - (X1 * Q) -  (Decay_1*X1))\n",
    "    M_X2 += DT*(dTCE_2*Y_TCE_2 + dDCE_2*Y_DCE_2 + dVC_2*Y_VC_2 - (X2 * Q) -  (Decay_2*X2))\n",
    "    X1 = M_X1 / V_liquid\n",
    "    X2 = M_X2 / V_liquid\n",
    "    \n",
    "    #print X1\n",
    "    \n",
    "    # THIS BLOCK OF CODE IS ENTIRELY CONCERNED WITH STORING THE DATA FOR FUTURE USE\n",
    "    if i % 1000 == 0:\n",
    "        storage[\"C_gas_DCA\"].append(C_gas_DCA)\n",
    "        storage[\"C_gas_DCE\"].append(C_gas_DCE)\n",
    "        storage[\"C_gas_H\"].append(C_gas_H)\n",
    "        storage[\"C_gas_TCE\"].append(C_gas_TCE)\n",
    "        storage[\"C_gas_VC\"].append(C_gas_VC)\n",
    "        storage[\"C_liquid_DCA\"].append(C_liquid_DCA)\n",
    "        storage[\"C_liquid_DCE\"].append(C_liquid_DCE)\n",
    "        storage[\"C_liquid_H\"].append(C_liquid_H)\n",
    "        storage[\"C_liquid_TCE\"].append(C_liquid_TCE)\n",
    "        storage[\"C_liquid_VC\"].append(C_liquid_VC)\n",
    "        storage[\"X1\"].append(X1)\n",
    "        storage[\"X2\"].append(X2)\n",
    "        storage[\"counter\"].append(i)\n",
    "        storage[\"dDCA_1\"].append(dDCA_1)\n",
    "        storage[\"dDCA_2\"].append(dDCA_2)\n",
    "        storage[\"dDCE_1\"].append(dDCE_1)\n",
    "        storage[\"dDCE_2\"].append(dDCE_2)\n",
    "        storage[\"dTCE_1\"].append(dTCE_1)\n",
    "        storage[\"dTCE_2\"].append(dTCE_2)\n",
    "        storage[\"dVC_1\"].append(dVC_1)\n",
    "        storage[\"dVC_2\"].append(dVC_2)\n",
    "\n",
    "\n",
    "days = [x/1000 for x in storage[\"counter\"]]\n"
   ]
  },
  {
   "cell_type": "code",
   "execution_count": 6,
   "metadata": {
    "collapsed": false
   },
   "outputs": [
    {
     "data": {
      "text/plain": [
       "<matplotlib.legend.Legend at 0x107fb16d0>"
      ]
     },
     "execution_count": 6,
     "metadata": {},
     "output_type": "execute_result"
    },
    {
     "data": {
      "image/png": "[encoded data removed]",
      "text/plain": [
       "<matplotlib.figure.Figure at 0x107ecb9d0>"
      ]
     },
     "metadata": {},
     "output_type": "display_data"
    }
   ],
   "source": [
    "x1, = plt.plot(days,storage['C_liquid_TCE'], '-', linewidth=2, c =\"blue\")\n",
    "x2, = plt.plot(days,storage['C_liquid_DCE'], '-', linewidth=2, c = \"black\")\n",
    "x3, = plt.plot(days,storage['C_liquid_VC'], '-', linewidth=2, c = \"green\")\n",
    "plt.plot(days,storage['C_liquid_H'], '-', linewidth=2 ,c= \"red\")\n",
    "plt.title('Liquid Concentrations')\n",
    "plt.ylabel('uMol / L')\n",
    "plt.xlabel('days')\n",
    "plt.legend( (x1, x2,x3), ('TCE', 'DCE','VC'), loc='upper right', shadow=True)"
   ]
  },
  {
   "cell_type": "code",
   "execution_count": 7,
   "metadata": {
    "collapsed": false
   },
   "outputs": [
    {
     "data": {
      "text/plain": [
       "<matplotlib.legend.Legend at 0x108913290>"
      ]
     },
     "execution_count": 7,
     "metadata": {},
     "output_type": "execute_result"
    },
    {
     "data": {
      "image/png": "[encoded data removed]",
      "text/plain": [
       "<matplotlib.figure.Figure at 0x107ecb250>"
      ]
     },
     "metadata": {},
     "output_type": "display_data"
    }
   ],
   "source": [
    "x1, = plt.plot(days,storage['C_gas_TCE'], '-', linewidth=2, c =\"blue\")\n",
    "x2, = plt.plot(days,storage['C_gas_DCE'], '-', linewidth=2, c = \"black\")\n",
    "x3, = plt.plot(days,storage['C_gas_VC'], '-', linewidth=2, c = \"green\")\n",
    "#plt.plot(days,storage['C_gas_H'], '-', linewidth=2 ,c= \"red\")\n",
    "plt.title('Headspace Concentrations')\n",
    "plt.ylabel('uMol / L')\n",
    "plt.xlabel('days')\n",
    "plt.legend( (x1, x2,x3), ('TCE', 'DCE','VC'), loc='upper right', shadow=True)"
   ]
  },
  {
   "cell_type": "code",
   "execution_count": 8,
   "metadata": {
    "collapsed": false
   },
   "outputs": [
    {
     "data": {
      "image/png": "[encoded data removed]",
      "text/plain": [
       "<matplotlib.figure.Figure at 0x107ef97d0>"
      ]
     },
     "metadata": {},
     "output_type": "display_data"
    }
   ],
   "source": [
    "x1, = plt.plot(days,storage['X1'], '--', linewidth=2)\n",
    "x2, = plt.plot(days,storage['X2'], '--', linewidth=2, c =\"green\")\n",
    "plt.title('Organims Concentrations')\n",
    "plt.ylabel('mg TSS / L')\n",
    "plt.xlabel('days')\n",
    "plt.legend( (x1, x2), ('tceA', 'vcrA'), loc='lower right', shadow=True)\n",
    "plt.grid(True)\n"
   ]
  },
  {
   "cell_type": "code",
   "execution_count": null,
   "metadata": {
    "collapsed": true
   },
   "outputs": [],
   "source": []
  }
 ],
 "metadata": {
  "kernelspec": {
   "display_name": "Python 2",
   "language": "python",
   "name": "python2"
  },
  "language_info": {
   "codemirror_mode": {
    "name": "ipython",
    "version": 2
   },
   "file_extension": ".py",
   "mimetype": "text/x-python",
   "name": "python",
   "nbconvert_exporter": "python",
   "pygments_lexer": "ipython2",
   "version": "2.7.11"
  }
 },
 "nbformat": 4,
 "nbformat_minor": 0
}
